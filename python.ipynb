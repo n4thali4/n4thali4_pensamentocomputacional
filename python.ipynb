{
  "nbformat": 4,
  "nbformat_minor": 0,
  "metadata": {
    "colab": {
      "provenance": [],
      "authorship_tag": "ABX9TyP2waQG15YU8+9gOj+qn/mr",
      "include_colab_link": true
    },
    "kernelspec": {
      "name": "python3",
      "display_name": "Python 3"
    },
    "language_info": {
      "name": "python"
    }
  },
  "cells": [
    {
      "cell_type": "markdown",
      "metadata": {
        "id": "view-in-github",
        "colab_type": "text"
      },
      "source": [
        "<a href=\"https://colab.research.google.com/github/n4thali4/n4thali4_pensamentocomputacional/blob/main/python.ipynb\" target=\"_parent\"><img src=\"https://colab.research.google.com/assets/colab-badge.svg\" alt=\"Open In Colab\"/></a>"
      ]
    },
    {
      "cell_type": "code",
      "execution_count": null,
      "metadata": {
        "colab": {
          "base_uri": "https://localhost:8080/"
        },
        "id": "ohQtfooOor22",
        "outputId": "e0057dfe-db32-494c-b0e7-175359a14b58"
      },
      "outputs": [
        {
          "output_type": "stream",
          "name": "stdout",
          "text": [
            "I competição de Programação da Start\n"
          ]
        }
      ],
      "source": [
        "print(\"I competição de Programação da Start\")"
      ]
    },
    {
      "cell_type": "code",
      "source": [
        "ano = \"II\"\n",
        "\n",
        "print(ano, \"Competição de Programação da Start\")"
      ],
      "metadata": {
        "colab": {
          "base_uri": "https://localhost:8080/"
        },
        "id": "Zb772OOKrIUV",
        "outputId": "c7da84e1-cd94-470c-d16b-53b5e43e624b"
      },
      "execution_count": null,
      "outputs": [
        {
          "output_type": "stream",
          "name": "stdout",
          "text": [
            "II Competição de Programação da Start\n"
          ]
        }
      ]
    },
    {
      "cell_type": "code",
      "source": [
        "print(f\"{ano} Competição de Programação da Start\")"
      ],
      "metadata": {
        "colab": {
          "base_uri": "https://localhost:8080/"
        },
        "id": "GvAml0i9r5uv",
        "outputId": "619c4698-2b6c-4128-e6ae-921d3b764865"
      },
      "execution_count": null,
      "outputs": [
        {
          "output_type": "stream",
          "name": "stdout",
          "text": [
            "II Competição de Programação da Start\n"
          ]
        }
      ]
    },
    {
      "cell_type": "markdown",
      "source": [
        "##aula 1"
      ],
      "metadata": {
        "id": "oCzZ06Fqgp5g"
      }
    },
    {
      "cell_type": "markdown",
      "source": [
        "##aula 2"
      ],
      "metadata": {
        "id": "3rMfmVhug2OM"
      }
    },
    {
      "cell_type": "code",
      "source": [
        "livro_ficcao = 8\n",
        "livro_nficcao = 10\n",
        "livro_infantil = 6\n",
        "\n",
        "pontos_rodrigo = livro_ficcao + livro_nficcao + livro_infantil\n",
        "\n",
        "print(f\"os pontos totais do rodrigo são: {pontos_rodrigo}\")"
      ],
      "metadata": {
        "id": "lb1IT-b4vDt6",
        "colab": {
          "base_uri": "https://localhost:8080/"
        },
        "outputId": "ea396fb2-6673-48d8-ba3a-c583ec447680"
      },
      "execution_count": 1,
      "outputs": [
        {
          "output_type": "stream",
          "name": "stdout",
          "text": [
            "os pontos totais do rodrigo são: 24\n"
          ]
        }
      ]
    },
    {
      "cell_type": "code",
      "source": [],
      "metadata": {
        "id": "953oY57Yhyd3"
      },
      "execution_count": null,
      "outputs": []
    }
  ]
}